{
  "nbformat": 4,
  "nbformat_minor": 0,
  "metadata": {
    "colab": {
      "provenance": [],
      "authorship_tag": "ABX9TyM8YJ/C2L2QTZNlw43FIcZJ",
      "include_colab_link": true
    },
    "kernelspec": {
      "name": "python3",
      "display_name": "Python 3"
    },
    "language_info": {
      "name": "python"
    }
  },
  "cells": [
    {
      "cell_type": "markdown",
      "metadata": {
        "id": "view-in-github",
        "colab_type": "text"
      },
      "source": [
        "<a href=\"https://colab.research.google.com/github/Andy7189/Ejemplo/blob/main/Sem14.ipynb\" target=\"_parent\"><img src=\"https://colab.research.google.com/assets/colab-badge.svg\" alt=\"Open In Colab\"/></a>"
      ]
    },
    {
      "cell_type": "markdown",
      "source": [
        "#1. Área de un Triángulo"
      ],
      "metadata": {
        "id": "MvRWqhbEs-nv"
      }
    },
    {
      "cell_type": "code",
      "execution_count": 8,
      "metadata": {
        "colab": {
          "base_uri": "https://localhost:8080/",
          "height": 0
        },
        "id": "3aHBVgPRs0Wv",
        "outputId": "7a3e8804-8309-46b7-b509-836c90093601"
      },
      "outputs": [
        {
          "output_type": "stream",
          "name": "stdout",
          "text": [
            "Ingresa la base del triángulo: 10\n",
            "Ingresa la altura del triángulo: 12\n",
            "El área del triángulo es: 60.0\n"
          ]
        }
      ],
      "source": [
        "base = float(input(\"Ingresa la base del triángulo: \"))\n",
        "altura = float(input(\"Ingresa la altura del triángulo: \"))\n",
        "area = (base * altura) / 2\n",
        "print(\"El área del triángulo es:\", area)"
      ]
    },
    {
      "cell_type": "markdown",
      "source": [
        "# 2. Conversión de Celsius a Fahrenheit"
      ],
      "metadata": {
        "id": "RLqMI6eAtNOu"
      }
    },
    {
      "cell_type": "code",
      "source": [
        "celsius = float(input(\"Ingresa la temperatura en grados Celsius: \"))\n",
        "fahrenheit = (celsius * 9/5) + 32\n",
        "print(\"La temperatura en Fahrenheit es:\", fahrenheit)\n"
      ],
      "metadata": {
        "colab": {
          "base_uri": "https://localhost:8080/",
          "height": 0
        },
        "id": "2rKPekqdtRmX",
        "outputId": "c6a9fc6b-ab90-4a6f-a4b4-d0a06535b130"
      },
      "execution_count": 9,
      "outputs": [
        {
          "output_type": "stream",
          "name": "stdout",
          "text": [
            "Ingresa la temperatura en grados Celsius: 20\n",
            "La temperatura en Fahrenheit es: 68.0\n"
          ]
        }
      ]
    },
    {
      "cell_type": "markdown",
      "source": [
        "#3. Número Mayor entre Tres"
      ],
      "metadata": {
        "id": "y1JzskXXtWon"
      }
    },
    {
      "cell_type": "code",
      "source": [
        "num1 = float(input(\"Ingresa el primer número: \"))\n",
        "num2 = float(input(\"Ingresa el segundo número: \"))\n",
        "num3 = float(input(\"Ingresa el tercer número: \"))\n",
        "\n",
        "mayor = max(num1, num2, num3)\n",
        "print(\"El número mayor es:\", mayor)"
      ],
      "metadata": {
        "colab": {
          "base_uri": "https://localhost:8080/",
          "height": 0
        },
        "id": "T5EzpcRMtcwv",
        "outputId": "0976514e-1bf0-4ea4-928a-e60e57384e37"
      },
      "execution_count": 10,
      "outputs": [
        {
          "output_type": "stream",
          "name": "stdout",
          "text": [
            "Ingresa el primer número: 10\n",
            "Ingresa el segundo número: 15\n",
            "Ingresa el tercer número: 20\n",
            "El número mayor es: 20.0\n"
          ]
        }
      ]
    },
    {
      "cell_type": "markdown",
      "source": [
        "# 4. Descuento según Monto de Compra"
      ],
      "metadata": {
        "id": "14dnhVu6tcLn"
      }
    },
    {
      "cell_type": "code",
      "source": [
        "monto = float(input(\"Ingresa el monto total de la compra: \"))\n",
        "\n",
        "if monto > 500:\n",
        "    descuento = 0.20\n",
        "elif monto >= 200:\n",
        "    descuento = 0.10\n",
        "else:\n",
        "    descuento = 0.0\n",
        "\n",
        "monto_descuento = monto * descuento\n",
        "monto_final = monto - monto_descuento\n",
        "\n",
        "print(f\"Descuento aplicado: S/{monto_descuento:.2f}\")\n",
        "print(f\"Monto final a pagar: S/{monto_final:.2f}\")\n"
      ],
      "metadata": {
        "colab": {
          "base_uri": "https://localhost:8080/",
          "height": 0
        },
        "id": "kODITUBhtmRX",
        "outputId": "d8377796-1d4a-4bfc-b490-10c7718bceff"
      },
      "execution_count": 11,
      "outputs": [
        {
          "output_type": "stream",
          "name": "stdout",
          "text": [
            "Ingresa el monto total de la compra: 1000\n",
            "Descuento aplicado: S/200.00\n",
            "Monto final a pagar: S/800.00\n"
          ]
        }
      ]
    },
    {
      "cell_type": "markdown",
      "source": [
        "# 5. Suma de Números Pares en un Rango"
      ],
      "metadata": {
        "id": "4GTTu4UUt243"
      }
    },
    {
      "cell_type": "code",
      "source": [
        "inicio = int(input(\"Ingresa el número de inicio: \"))\n",
        "fin = int(input(\"Ingresa el número final: \"))\n",
        "\n",
        "suma_pares = 0\n",
        "for num in range(inicio, fin + 1):\n",
        "    if num % 2 == 0:\n",
        "        suma_pares += num\n",
        "\n",
        "print(\"La suma de los números pares es:\", suma_pares)\n"
      ],
      "metadata": {
        "colab": {
          "base_uri": "https://localhost:8080/",
          "height": 0
        },
        "id": "Dc4QZfZxtuB7",
        "outputId": "53914ec0-4471-4662-b919-6c2810e5727b"
      },
      "execution_count": 12,
      "outputs": [
        {
          "output_type": "stream",
          "name": "stdout",
          "text": [
            "Ingresa el número de inicio: 1\n",
            "Ingresa el número final: 30\n",
            "La suma de los números pares es: 240\n"
          ]
        }
      ]
    }
  ]
}